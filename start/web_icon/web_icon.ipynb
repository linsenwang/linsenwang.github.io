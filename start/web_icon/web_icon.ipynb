{
 "cells": [
  {
   "cell_type": "code",
   "execution_count": 3,
   "metadata": {},
   "outputs": [],
   "source": [
    "from PIL import Image, ImageFilter, ImageFont, ImageDraw\n",
    "import numpy as np\n",
    "import os"
   ]
  },
  {
   "cell_type": "code",
   "execution_count": 97,
   "metadata": {},
   "outputs": [],
   "source": [
    "dir = os.listdir(os.getcwd())\n",
    "img_dir = [i for i in dir if i[-4:-1]=='.pn']\n",
    "for i in img_dir:\n",
    "    image = Image.open(i)\n",
    "    new = Image.new(mode='RGBA',size=image.size,color=(255,255,255,255))\n",
    "    final = Image.new(mode='RGBA',size=image.size,color=(255,255,255,255))\n",
    "    final = Image.alpha_composite(final,new)\n",
    "    final = Image.alpha_composite(final,image)\n",
    "    final.save(i)"
   ]
  },
  {
   "cell_type": "code",
   "execution_count": 96,
   "metadata": {},
   "outputs": [],
   "source": []
  },
  {
   "cell_type": "code",
   "execution_count": null,
   "metadata": {},
   "outputs": [],
   "source": []
  }
 ],
 "metadata": {
  "kernelspec": {
   "display_name": "Python 3",
   "language": "python",
   "name": "python3"
  },
  "language_info": {
   "codemirror_mode": {
    "name": "ipython",
    "version": 3
   },
   "file_extension": ".py",
   "mimetype": "text/x-python",
   "name": "python",
   "nbconvert_exporter": "python",
   "pygments_lexer": "ipython3",
   "version": "3.12.3"
  }
 },
 "nbformat": 4,
 "nbformat_minor": 2
}
